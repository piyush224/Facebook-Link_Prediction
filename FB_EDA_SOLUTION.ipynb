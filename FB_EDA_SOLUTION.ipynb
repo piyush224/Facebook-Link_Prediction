{
 "cells": [
  {
   "cell_type": "markdown",
   "metadata": {
    "id": "ZHBr7zI9RUUs"
   },
   "source": [
    "<p style=\"font-size:32px;text-align:center\"> <b>Social network Graph Link Prediction - Facebook Challenge</b> </p>"
   ]
  },
  {
   "cell_type": "markdown",
   "metadata": {
    "id": "azSRb5oFRUU0"
   },
   "source": [
    "### Problem statement: \n",
    "Given a directed social graph, have to predict missing links to recommend users (Link Prediction in graph)"
   ]
  },
  {
   "cell_type": "markdown",
   "metadata": {
    "id": "T5lfrh6gRUU2"
   },
   "source": [
    "### Data Overview\n",
    "Taken data from facebook's recruting challenge on kaggle https://www.kaggle.com/c/FacebookRecruiting  \n",
    "data contains two columns source and destination eac edge in graph \n",
    "    - Data columns (total 2 columns):  \n",
    "    - source_node         int64  \n",
    "    - destination_node    int64  "
   ]
  },
  {
   "cell_type": "markdown",
   "metadata": {
    "id": "HW74kiLuRUU3"
   },
   "source": [
    "### Mapping the problem into supervised learning problem:\n",
    "- Generated training samples of good and bad links from given directed graph and for each link got some features like no of followers, is he followed back, page rank, katz score, adar index, some svd fetures of adj matrix, some weight features etc. and trained ml model based on these features to predict link. \n",
    "- Some reference papers and videos :  \n",
    "    - https://www.cs.cornell.edu/home/kleinber/link-pred.pdf\n",
    "    - https://www3.nd.edu/~dial/publications/lichtenwalter2010new.pdf\n",
    "    - https://kaggle2.blob.core.windows.net/forum-message-attachments/2594/supervised_link_prediction.pdf\n",
    "    - https://www.youtube.com/watch?v=2M77Hgy17cg"
   ]
  },
  {
   "cell_type": "markdown",
   "metadata": {
    "id": "EmZ1WPjZRUU3"
   },
   "source": [
    "### Business objectives and constraints:  \n",
    "- No low-latency requirement.\n",
    "- Probability of prediction is useful to recommend ighest probability links"
   ]
  },
  {
   "cell_type": "markdown",
   "metadata": {
    "id": "KgxmW0BXRUU4"
   },
   "source": [
    "### Performance metric for supervised learning:  \n",
    "- Both precision and recall is important so F1 score is good choice\n",
    "- Confusion matrix"
   ]
  },
  {
   "cell_type": "code",
   "execution_count": 1,
   "metadata": {
    "colab": {
     "base_uri": "https://localhost:8080/"
    },
    "executionInfo": {
     "elapsed": 429,
     "status": "ok",
     "timestamp": 1635073761999,
     "user": {
      "displayName": "piyush dutt acharya",
      "photoUrl": "https://lh3.googleusercontent.com/a/default-user=s64",
      "userId": "01238491643435937668"
     },
     "user_tz": -330
    },
    "id": "22gTDM8zsOSm",
    "outputId": "fb31b795-4c12-439e-e632-6601bf664e37"
   },
   "outputs": [
    {
     "name": "stdout",
     "output_type": "stream",
     "text": [
      "Drive already mounted at /content/gdrive; to attempt to forcibly remount, call drive.mount(\"/content/gdrive\", force_remount=True).\n"
     ]
    }
   ],
   "source": [
    "from google.colab import drive\n",
    "drive.mount('/content/gdrive')"
   ]
  },
  {
   "cell_type": "code",
   "execution_count": 2,
   "metadata": {
    "executionInfo": {
     "elapsed": 2210,
     "status": "ok",
     "timestamp": 1635073767373,
     "user": {
      "displayName": "piyush dutt acharya",
      "photoUrl": "https://lh3.googleusercontent.com/a/default-user=s64",
      "userId": "01238491643435937668"
     },
     "user_tz": -330
    },
    "id": "DC3fNw1GRUU5"
   },
   "outputs": [],
   "source": [
    "#Importing Libraries\n",
    "# please do go through this python notebook: \n",
    "import warnings\n",
    "warnings.filterwarnings(\"ignore\")\n",
    "\n",
    "import csv\n",
    "import pandas as pd#pandas to create small dataframes \n",
    "import datetime #Convert to unix time\n",
    "import time #Convert to unix time\n",
    "# if numpy is not installed already : pip3 install numpy\n",
    "import numpy as np#Do aritmetic operations on arrays\n",
    "# matplotlib: used to plot graphs\n",
    "import matplotlib\n",
    "import matplotlib.pylab as plt\n",
    "import seaborn as sns#Plots\n",
    "from matplotlib import rcParams#Size of plots  \n",
    "from sklearn.cluster import MiniBatchKMeans, KMeans#Clustering\n",
    "import math\n",
    "import pickle\n",
    "import os\n",
    "# to install xgboost: pip3 install xgboost\n",
    "import xgboost as xgb\n",
    "\n",
    "import warnings\n",
    "import networkx as nx\n",
    "import pdb\n",
    "import pickle"
   ]
  },
  {
   "cell_type": "code",
   "execution_count": null,
   "metadata": {
    "id": "mekYLyZ_RUU9",
    "outputId": "83a3c161-64d4-47c5-dc33-f5eefbb49856"
   },
   "outputs": [
    {
     "name": "stdout",
     "output_type": "stream",
     "text": [
      "Name: \n",
      "Type: DiGraph\n",
      "Number of nodes: 1862220\n",
      "Number of edges: 9437519\n",
      "Average in degree:   5.0679\n",
      "Average out degree:   5.0679\n"
     ]
    }
   ],
   "source": [
    "# #reading graph\n",
    "# if not os.path.isfile('data/after_eda/train_woheader.csv'):\n",
    "#     traincsv = pd.read_csv('data/train.csv')\n",
    "#     print(traincsv[traincsv.isna().any(1)])\n",
    "#     print(traincsv.info())\n",
    "#     print(\"Number of diplicate entries: \",sum(traincsv.duplicated()))\n",
    "#     traincsv.to_csv('data/after_eda/train_woheader.csv',header=False,index=False)\n",
    "#     print(\"saved the graph into file\")\n",
    "# else:\n",
    "#     g=nx.read_edgelist('data/after_eda/train_woheader.csv',delimiter=',',create_using=nx.DiGraph(),nodetype=int)\n",
    "#     print(nx.info(g))"
   ]
  },
  {
   "cell_type": "code",
   "execution_count": 3,
   "metadata": {
    "colab": {
     "base_uri": "https://localhost:8080/"
    },
    "executionInfo": {
     "elapsed": 81461,
     "status": "ok",
     "timestamp": 1635052191687,
     "user": {
      "displayName": "piyush dutt acharya",
      "photoUrl": "https://lh3.googleusercontent.com/a/default-user=s64",
      "userId": "01238491643435937668"
     },
     "user_tz": -330
    },
    "id": "wApvPhuGsjUy",
    "outputId": "67e007f9-716c-4aa7-fd9d-550e20a36b1c"
   },
   "outputs": [
    {
     "name": "stdout",
     "output_type": "stream",
     "text": [
      "DiGraph with 1862220 nodes and 9437519 edges\n"
     ]
    }
   ],
   "source": [
    "g=nx.read_edgelist('train.csv',delimiter=',',create_using=nx.DiGraph(),nodetype=int)\n",
    "print(nx.info(g))"
   ]
  },
  {
   "cell_type": "code",
   "execution_count": 4,
   "metadata": {
    "executionInfo": {
     "elapsed": 18828,
     "status": "ok",
     "timestamp": 1635052261975,
     "user": {
      "displayName": "piyush dutt acharya",
      "photoUrl": "https://lh3.googleusercontent.com/a/default-user=s64",
      "userId": "01238491643435937668"
     },
     "user_tz": -330
    },
    "id": "0D1UoPVxtIoP"
   },
   "outputs": [],
   "source": [
    "with open('graph','wb') as f:\n",
    "    pickle.dump(g,f)"
   ]
  },
  {
   "cell_type": "code",
   "execution_count": 5,
   "metadata": {
    "colab": {
     "base_uri": "https://localhost:8080/",
     "height": 336
    },
    "executionInfo": {
     "elapsed": 2274,
     "status": "ok",
     "timestamp": 1635052285815,
     "user": {
      "displayName": "piyush dutt acharya",
      "photoUrl": "https://lh3.googleusercontent.com/a/default-user=s64",
      "userId": "01238491643435937668"
     },
     "user_tz": -330
    },
    "id": "YkI3GHG9RUVC",
    "outputId": "6cb5045f-ba5a-49b6-8210-5db86239de6f"
   },
   "outputs": [
    {
     "name": "stdout",
     "output_type": "stream",
     "text": [
      "DiGraph with 66 nodes and 50 edges\n"
     ]
    },
    {
     "data": {
      "image/png": "[encoded data removed]",
      "text/plain": [
       "<Figure size 432x288 with 1 Axes>"
      ]
     },
     "metadata": {},
     "output_type": "display_data"
    }
   ],
   "source": [
    "if not os.path.isfile('train_woheader_sample.csv'):\n",
    "    pd.read_csv('train.csv', nrows=50).to_csv('train_woheader_sample.csv',header=False,index=False)\n",
    "    \n",
    "subgraph=nx.read_edgelist('train_woheader_sample.csv',delimiter=',',create_using=nx.DiGraph(),nodetype=int)\n",
    "# https://stackoverflow.com/questions/9402255/drawing-a-huge-graph-with-networkx-and-matplotlib\n",
    "\n",
    "pos=nx.spring_layout(subgraph)\n",
    "nx.draw(subgraph,pos,node_color='#A0CBE2',edge_color='#00bb5e',width=1,edge_cmap=plt.cm.Blues,with_labels=True)\n",
    "plt.savefig(\"graph_sample.pdf\")\n",
    "print(nx.info(subgraph))"
   ]
  },
  {
   "cell_type": "markdown",
   "metadata": {
    "id": "V8GkSGwjRUVA"
   },
   "source": [
    "> Displaying a sub graph"
   ]
  },
  {
   "cell_type": "markdown",
   "metadata": {
    "id": "2cD0yWMgRUVD"
   },
   "source": [
    "# 1. Exploratory Data Analysis"
   ]
  },
  {
   "cell_type": "code",
   "execution_count": 6,
   "metadata": {
    "colab": {
     "base_uri": "https://localhost:8080/"
    },
    "executionInfo": {
     "elapsed": 428,
     "status": "ok",
     "timestamp": 1635052291885,
     "user": {
      "displayName": "piyush dutt acharya",
      "photoUrl": "https://lh3.googleusercontent.com/a/default-user=s64",
      "userId": "01238491643435937668"
     },
     "user_tz": -330
    },
    "id": "IBazLeHiRUVD",
    "outputId": "b0071434-400d-4154-bfc1-bf50e1f305cf"
   },
   "outputs": [
    {
     "name": "stdout",
     "output_type": "stream",
     "text": [
      "The number of unique persons 1862220\n"
     ]
    }
   ],
   "source": [
    "# No of Unique persons \n",
    "print(\"The number of unique persons\",len(g.nodes()))"
   ]
  },
  {
   "cell_type": "markdown",
   "metadata": {
    "id": "SYq-ssvARUVE"
   },
   "source": [
    "## 1.1 No of followers for each person"
   ]
  },
  {
   "cell_type": "code",
   "execution_count": 7,
   "metadata": {
    "colab": {
     "base_uri": "https://localhost:8080/",
     "height": 388
    },
    "executionInfo": {
     "elapsed": 2991,
     "status": "ok",
     "timestamp": 1635052297421,
     "user": {
      "displayName": "piyush dutt acharya",
      "photoUrl": "https://lh3.googleusercontent.com/a/default-user=s64",
      "userId": "01238491643435937668"
     },
     "user_tz": -330
    },
    "id": "pqRmjc8bRUVF",
    "outputId": "d63f28db-8e43-45ba-dd9e-d537765ece22"
   },
   "outputs": [
    {
     "data": {
      "image/png": "[encoded data removed]",
      "text/plain": [
       "<Figure size 720x432 with 1 Axes>"
      ]
     },
     "metadata": {
      "needs_background": "light"
     },
     "output_type": "display_data"
    }
   ],
   "source": [
    "indegree_dist = list(dict(g.in_degree()).values())\n",
    "indegree_dist.sort()\n",
    "plt.figure(figsize=(10,6))\n",
    "plt.plot(indegree_dist)\n",
    "plt.xlabel('Index No')\n",
    "plt.ylabel('No Of Followers')\n",
    "plt.show()"
   ]
  },
  {
   "cell_type": "code",
   "execution_count": 8,
   "metadata": {
    "colab": {
     "base_uri": "https://localhost:8080/",
     "height": 388
    },
    "executionInfo": {
     "elapsed": 2872,
     "status": "ok",
     "timestamp": 1635052303143,
     "user": {
      "displayName": "piyush dutt acharya",
      "photoUrl": "https://lh3.googleusercontent.com/a/default-user=s64",
      "userId": "01238491643435937668"
     },
     "user_tz": -330
    },
    "id": "JuMDRQJtRUVG",
    "outputId": "ae7fb734-294e-4f66-f2d2-15a5d0fb051f"
   },
   "outputs": [
    {
     "data": {
      "image/png": "[encoded data removed]",
      "text/plain": [
       "<Figure size 720x432 with 1 Axes>"
      ]
     },
     "metadata": {
      "needs_background": "light"
     },
     "output_type": "display_data"
    }
   ],
   "source": [
    "indegree_dist = list(dict(g.in_degree()).values())\n",
    "indegree_dist.sort()\n",
    "plt.figure(figsize=(10,6))\n",
    "plt.plot(indegree_dist[0:1500000])\n",
    "plt.xlabel('Index No')\n",
    "plt.ylabel('No Of Followers')\n",
    "plt.show()"
   ]
  },
  {
   "cell_type": "code",
   "execution_count": 9,
   "metadata": {
    "colab": {
     "base_uri": "https://localhost:8080/",
     "height": 265
    },
    "executionInfo": {
     "elapsed": 1159,
     "status": "ok",
     "timestamp": 1635052307961,
     "user": {
      "displayName": "piyush dutt acharya",
      "photoUrl": "https://lh3.googleusercontent.com/a/default-user=s64",
      "userId": "01238491643435937668"
     },
     "user_tz": -330
    },
    "id": "9C-stw3LRUVG",
    "outputId": "648acfa5-a68a-4ea6-8a8a-02d27c7171db"
   },
   "outputs": [
    {
     "data": {
      "image/png": "[encoded data removed]",
      "text/plain": [
       "<Figure size 432x288 with 1 Axes>"
      ]
     },
     "metadata": {
      "needs_background": "light"
     },
     "output_type": "display_data"
    }
   ],
   "source": [
    "plt.boxplot(indegree_dist)\n",
    "plt.ylabel('No Of Followers')\n",
    "plt.show()"
   ]
  },
  {
   "cell_type": "code",
   "execution_count": 10,
   "metadata": {
    "colab": {
     "base_uri": "https://localhost:8080/"
    },
    "executionInfo": {
     "elapsed": 1770,
     "status": "ok",
     "timestamp": 1635052314670,
     "user": {
      "displayName": "piyush dutt acharya",
      "photoUrl": "https://lh3.googleusercontent.com/a/default-user=s64",
      "userId": "01238491643435937668"
     },
     "user_tz": -330
    },
    "id": "46xmeFh5RUVH",
    "outputId": "a4dee6b7-e81d-4ec4-aa35-094a50314415"
   },
   "outputs": [
    {
     "name": "stdout",
     "output_type": "stream",
     "text": [
      "90 percentile value is 12.0\n",
      "91 percentile value is 13.0\n",
      "92 percentile value is 14.0\n",
      "93 percentile value is 15.0\n",
      "94 percentile value is 17.0\n",
      "95 percentile value is 19.0\n",
      "96 percentile value is 21.0\n",
      "97 percentile value is 24.0\n",
      "98 percentile value is 29.0\n",
      "99 percentile value is 40.0\n",
      "100 percentile value is 552.0\n"
     ]
    }
   ],
   "source": [
    "### 90-100 percentile\n",
    "for i in range(0,11):\n",
    "    print(90+i,'percentile value is',np.percentile(indegree_dist,90+i))"
   ]
  },
  {
   "cell_type": "markdown",
   "metadata": {
    "id": "0ZHS0fXjRUVI"
   },
   "source": [
    "99% of data having followers of 40 only."
   ]
  },
  {
   "cell_type": "code",
   "execution_count": 11,
   "metadata": {
    "colab": {
     "base_uri": "https://localhost:8080/"
    },
    "executionInfo": {
     "elapsed": 1637,
     "status": "ok",
     "timestamp": 1635052316747,
     "user": {
      "displayName": "piyush dutt acharya",
      "photoUrl": "https://lh3.googleusercontent.com/a/default-user=s64",
      "userId": "01238491643435937668"
     },
     "user_tz": -330
    },
    "id": "YlnJLJaZRUVJ",
    "outputId": "fb4ac89f-25ea-4d1d-8cb5-dbb0e9c6daab"
   },
   "outputs": [
    {
     "name": "stdout",
     "output_type": "stream",
     "text": [
      "99.1 percentile value is 42.0\n",
      "99.2 percentile value is 44.0\n",
      "99.3 percentile value is 47.0\n",
      "99.4 percentile value is 50.0\n",
      "99.5 percentile value is 55.0\n",
      "99.6 percentile value is 61.0\n",
      "99.7 percentile value is 70.0\n",
      "99.8 percentile value is 84.0\n",
      "99.9 percentile value is 112.0\n",
      "100.0 percentile value is 552.0\n"
     ]
    }
   ],
   "source": [
    "### 99-100 percentile\n",
    "for i in range(10,110,10):\n",
    "    print(99+(i/100),'percentile value is',np.percentile(indegree_dist,99+(i/100)))"
   ]
  },
  {
   "cell_type": "code",
   "execution_count": 12,
   "metadata": {
    "colab": {
     "base_uri": "https://localhost:8080/",
     "height": 511
    },
    "executionInfo": {
     "elapsed": 15147,
     "status": "ok",
     "timestamp": 1635052331881,
     "user": {
      "displayName": "piyush dutt acharya",
      "photoUrl": "https://lh3.googleusercontent.com/a/default-user=s64",
      "userId": "01238491643435937668"
     },
     "user_tz": -330
    },
    "id": "lkpZgpOiRUVK",
    "outputId": "1716f7a3-e978-4f85-8f93-3298cf5059a5"
   },
   "outputs": [
    {
     "data": {
      "image/png": "[encoded data removed]",
      "text/plain": [
       "<Figure size 842.4x595.44 with 1 Axes>"
      ]
     },
     "metadata": {},
     "output_type": "display_data"
    }
   ],
   "source": [
    "%matplotlib inline\n",
    "sns.set_style('ticks')\n",
    "fig, ax = plt.subplots()\n",
    "fig.set_size_inches(11.7, 8.27)\n",
    "sns.distplot(indegree_dist, color='#16A085')\n",
    "plt.xlabel('PDF of Indegree')\n",
    "sns.despine()\n",
    "#plt.show()"
   ]
  },
  {
   "cell_type": "markdown",
   "metadata": {
    "id": "1YyXeNSNRUVL"
   },
   "source": [
    "## 1.2 No of people each person is following"
   ]
  },
  {
   "cell_type": "code",
   "execution_count": 13,
   "metadata": {
    "colab": {
     "base_uri": "https://localhost:8080/",
     "height": 388
    },
    "executionInfo": {
     "elapsed": 3075,
     "status": "ok",
     "timestamp": 1635052336317,
     "user": {
      "displayName": "piyush dutt acharya",
      "photoUrl": "https://lh3.googleusercontent.com/a/default-user=s64",
      "userId": "01238491643435937668"
     },
     "user_tz": -330
    },
    "id": "mn3IuNGxRUVM",
    "outputId": "39ef67f9-ed3d-4385-b25b-b940d05c86ad"
   },
   "outputs": [
    {
     "data": {
      "image/png": "[encoded data removed]",
      "text/plain": [
       "<Figure size 720x432 with 1 Axes>"
      ]
     },
     "metadata": {},
     "output_type": "display_data"
    }
   ],
   "source": [
    "outdegree_dist = list(dict(g.out_degree()).values())\n",
    "outdegree_dist.sort()\n",
    "plt.figure(figsize=(10,6))\n",
    "plt.plot(outdegree_dist)\n",
    "plt.xlabel('Index No')\n",
    "plt.ylabel('No Of people each person is following')\n",
    "plt.show()"
   ]
  },
  {
   "cell_type": "code",
   "execution_count": 14,
   "metadata": {
    "colab": {
     "base_uri": "https://localhost:8080/",
     "height": 388
    },
    "executionInfo": {
     "elapsed": 3141,
     "status": "ok",
     "timestamp": 1635052338925,
     "user": {
      "displayName": "piyush dutt acharya",
      "photoUrl": "https://lh3.googleusercontent.com/a/default-user=s64",
      "userId": "01238491643435937668"
     },
     "user_tz": -330
    },
    "id": "-alqKxITRUVM",
    "outputId": "c7cdf3f1-07fd-4326-ff4b-c162b256d7fe"
   },
   "outputs": [
    {
     "data": {
      "image/png": "[encoded data removed]",
      "text/plain": [
       "<Figure size 720x432 with 1 Axes>"
      ]
     },
     "metadata": {},
     "output_type": "display_data"
    }
   ],
   "source": [
    "indegree_dist = list(dict(g.in_degree()).values())\n",
    "indegree_dist.sort()\n",
    "plt.figure(figsize=(10,6))\n",
    "plt.plot(outdegree_dist[0:1500000])\n",
    "plt.xlabel('Index No')\n",
    "plt.ylabel('No Of people each person is following')\n",
    "plt.show()"
   ]
  },
  {
   "cell_type": "code",
   "execution_count": 15,
   "metadata": {
    "colab": {
     "base_uri": "https://localhost:8080/",
     "height": 265
    },
    "executionInfo": {
     "elapsed": 741,
     "status": "ok",
     "timestamp": 1635052339655,
     "user": {
      "displayName": "piyush dutt acharya",
      "photoUrl": "https://lh3.googleusercontent.com/a/default-user=s64",
      "userId": "01238491643435937668"
     },
     "user_tz": -330
    },
    "id": "HoQG0rcXRUVN",
    "outputId": "5fe3d6ba-524d-4645-9703-cc0043564fb0"
   },
   "outputs": [
    {
     "data": {
      "image/png": "[encoded data removed]",
      "text/plain": [
       "<Figure size 432x288 with 1 Axes>"
      ]
     },
     "metadata": {},
     "output_type": "display_data"
    }
   ],
   "source": [
    "plt.boxplot(indegree_dist)\n",
    "plt.ylabel('No Of people each person is following')\n",
    "plt.show()"
   ]
  },
  {
   "cell_type": "code",
   "execution_count": 16,
   "metadata": {
    "colab": {
     "base_uri": "https://localhost:8080/"
    },
    "executionInfo": {
     "elapsed": 1057,
     "status": "ok",
     "timestamp": 1635052340701,
     "user": {
      "displayName": "piyush dutt acharya",
      "photoUrl": "https://lh3.googleusercontent.com/a/default-user=s64",
      "userId": "01238491643435937668"
     },
     "user_tz": -330
    },
    "id": "3a9ThRglRUVO",
    "outputId": "53ec4a70-d66a-4e87-d606-6dc383e5cdff"
   },
   "outputs": [
    {
     "name": "stdout",
     "output_type": "stream",
     "text": [
      "90 percentile value is 12.0\n",
      "91 percentile value is 13.0\n",
      "92 percentile value is 14.0\n",
      "93 percentile value is 15.0\n",
      "94 percentile value is 17.0\n",
      "95 percentile value is 19.0\n",
      "96 percentile value is 21.0\n",
      "97 percentile value is 24.0\n",
      "98 percentile value is 29.0\n",
      "99 percentile value is 40.0\n",
      "100 percentile value is 1566.0\n"
     ]
    }
   ],
   "source": [
    "### 90-100 percentile\n",
    "for i in range(0,11):\n",
    "    print(90+i,'percentile value is',np.percentile(outdegree_dist,90+i))"
   ]
  },
  {
   "cell_type": "code",
   "execution_count": 17,
   "metadata": {
    "colab": {
     "base_uri": "https://localhost:8080/"
    },
    "executionInfo": {
     "elapsed": 894,
     "status": "ok",
     "timestamp": 1635052342221,
     "user": {
      "displayName": "piyush dutt acharya",
      "photoUrl": "https://lh3.googleusercontent.com/a/default-user=s64",
      "userId": "01238491643435937668"
     },
     "user_tz": -330
    },
    "id": "bWtDwPLnRUVO",
    "outputId": "cf5498c5-2a14-4675-9669-c6b0d5adedbf"
   },
   "outputs": [
    {
     "name": "stdout",
     "output_type": "stream",
     "text": [
      "99.1 percentile value is 42.0\n",
      "99.2 percentile value is 45.0\n",
      "99.3 percentile value is 48.0\n",
      "99.4 percentile value is 52.0\n",
      "99.5 percentile value is 56.0\n",
      "99.6 percentile value is 63.0\n",
      "99.7 percentile value is 73.0\n",
      "99.8 percentile value is 90.0\n",
      "99.9 percentile value is 123.0\n",
      "100.0 percentile value is 1566.0\n"
     ]
    }
   ],
   "source": [
    "### 99-100 percentile\n",
    "for i in range(10,110,10):\n",
    "    print(99+(i/100),'percentile value is',np.percentile(outdegree_dist,99+(i/100)))"
   ]
  },
  {
   "cell_type": "code",
   "execution_count": 18,
   "metadata": {
    "colab": {
     "base_uri": "https://localhost:8080/",
     "height": 511
    },
    "executionInfo": {
     "elapsed": 14885,
     "status": "ok",
     "timestamp": 1635052357102,
     "user": {
      "displayName": "piyush dutt acharya",
      "photoUrl": "https://lh3.googleusercontent.com/a/default-user=s64",
      "userId": "01238491643435937668"
     },
     "user_tz": -330
    },
    "id": "yOOwRBP_RUVP",
    "outputId": "b3958995-ebc1-4f32-985b-2a5577027c76"
   },
   "outputs": [
    {
     "data": {
      "image/png": "[encoded data removed]",
      "text/plain": [
       "<Figure size 842.4x595.44 with 1 Axes>"
      ]
     },
     "metadata": {},
     "output_type": "display_data"
    }
   ],
   "source": [
    "sns.set_style('ticks')\n",
    "fig, ax = plt.subplots()\n",
    "fig.set_size_inches(11.7, 8.27)\n",
    "sns.distplot(outdegree_dist, color='#16A085')\n",
    "plt.xlabel('PDF of Outdegree')\n",
    "sns.despine()"
   ]
  },
  {
   "cell_type": "code",
   "execution_count": 19,
   "metadata": {
    "colab": {
     "base_uri": "https://localhost:8080/"
    },
    "executionInfo": {
     "elapsed": 8689,
     "status": "ok",
     "timestamp": 1635052365775,
     "user": {
      "displayName": "piyush dutt acharya",
      "photoUrl": "https://lh3.googleusercontent.com/a/default-user=s64",
      "userId": "01238491643435937668"
     },
     "user_tz": -330
    },
    "id": "W4BPsrHgRUVP",
    "outputId": "af42096a-a63b-4db6-8a6e-c0592285bccf"
   },
   "outputs": [
    {
     "name": "stdout",
     "output_type": "stream",
     "text": [
      "No of persons those are not following anyone are 274512 and % is 14.741115442858524\n"
     ]
    }
   ],
   "source": [
    "print('No of persons those are not following anyone are' ,sum(np.array(outdegree_dist)==0),'and % is',\n",
    "                                sum(np.array(outdegree_dist)==0)*100/len(outdegree_dist) )"
   ]
  },
  {
   "cell_type": "code",
   "execution_count": 20,
   "metadata": {
    "colab": {
     "base_uri": "https://localhost:8080/"
    },
    "executionInfo": {
     "elapsed": 8617,
     "status": "ok",
     "timestamp": 1635052374385,
     "user": {
      "displayName": "piyush dutt acharya",
      "photoUrl": "https://lh3.googleusercontent.com/a/default-user=s64",
      "userId": "01238491643435937668"
     },
     "user_tz": -330
    },
    "id": "qbR_6OJ3RUVQ",
    "outputId": "f1249500-b66a-4c36-b7a6-26eb56afea21"
   },
   "outputs": [
    {
     "name": "stdout",
     "output_type": "stream",
     "text": [
      "No of persons having zero followers are 188043 and % is 10.097786512871734\n"
     ]
    }
   ],
   "source": [
    "print('No of persons having zero followers are' ,sum(np.array(indegree_dist)==0),'and % is',\n",
    "                                sum(np.array(indegree_dist)==0)*100/len(indegree_dist) )"
   ]
  },
  {
   "cell_type": "code",
   "execution_count": 21,
   "metadata": {
    "colab": {
     "base_uri": "https://localhost:8080/"
    },
    "executionInfo": {
     "elapsed": 7107,
     "status": "ok",
     "timestamp": 1635052381471,
     "user": {
      "displayName": "piyush dutt acharya",
      "photoUrl": "https://lh3.googleusercontent.com/a/default-user=s64",
      "userId": "01238491643435937668"
     },
     "user_tz": -330
    },
    "id": "ITJKy0vtRUVR",
    "outputId": "a338347e-0bf1-452e-d409-f61d40025526"
   },
   "outputs": [
    {
     "name": "stdout",
     "output_type": "stream",
     "text": [
      "No of persons those are not not following anyone and also not having any followers are 0\n"
     ]
    }
   ],
   "source": [
    "count=0\n",
    "for i in g.nodes():\n",
    "    if len(list(g.predecessors(i)))==0 :\n",
    "        if len(list(g.successors(i)))==0:\n",
    "            count+=1\n",
    "print('No of persons those are not not following anyone and also not having any followers are',count)"
   ]
  },
  {
   "cell_type": "markdown",
   "metadata": {
    "id": "Y1VK7iSqRUVR"
   },
   "source": [
    "## 1.3 both followers + following "
   ]
  },
  {
   "cell_type": "code",
   "execution_count": 22,
   "metadata": {
    "executionInfo": {
     "elapsed": 7490,
     "status": "ok",
     "timestamp": 1635052390524,
     "user": {
      "displayName": "piyush dutt acharya",
      "photoUrl": "https://lh3.googleusercontent.com/a/default-user=s64",
      "userId": "01238491643435937668"
     },
     "user_tz": -330
    },
    "id": "UB9xujUWRUVS"
   },
   "outputs": [],
   "source": [
    "from collections import Counter\n",
    "dict_in = dict(g.in_degree())\n",
    "dict_out = dict(g.out_degree())\n",
    "d = Counter(dict_in) + Counter(dict_out)\n",
    "in_out_degree = np.array(list(d.values()))"
   ]
  },
  {
   "cell_type": "code",
   "execution_count": 23,
   "metadata": {
    "colab": {
     "base_uri": "https://localhost:8080/",
     "height": 388
    },
    "executionInfo": {
     "elapsed": 1960,
     "status": "ok",
     "timestamp": 1635052392464,
     "user": {
      "displayName": "piyush dutt acharya",
      "photoUrl": "https://lh3.googleusercontent.com/a/default-user=s64",
      "userId": "01238491643435937668"
     },
     "user_tz": -330
    },
    "id": "0guYO96uRUVS",
    "outputId": "5099221f-826d-451b-a2fd-0496bf6c5be2"
   },
   "outputs": [
    {
     "data": {
      "image/png": "[encoded data removed]",
      "text/plain": [
       "<Figure size 720x432 with 1 Axes>"
      ]
     },
     "metadata": {},
     "output_type": "display_data"
    }
   ],
   "source": [
    "in_out_degree_sort = sorted(in_out_degree)\n",
    "plt.figure(figsize=(10,6))\n",
    "plt.plot(in_out_degree_sort)\n",
    "plt.xlabel('Index No')\n",
    "plt.ylabel('No Of people each person is following + followers')\n",
    "plt.show()"
   ]
  },
  {
   "cell_type": "code",
   "execution_count": 24,
   "metadata": {
    "colab": {
     "base_uri": "https://localhost:8080/",
     "height": 388
    },
    "executionInfo": {
     "elapsed": 2324,
     "status": "ok",
     "timestamp": 1635052394782,
     "user": {
      "displayName": "piyush dutt acharya",
      "photoUrl": "https://lh3.googleusercontent.com/a/default-user=s64",
      "userId": "01238491643435937668"
     },
     "user_tz": -330
    },
    "id": "lrQJh0gsRUVT",
    "outputId": "0291d6b4-04ca-49d4-9726-6acc3841012d"
   },
   "outputs": [
    {
     "data": {
      "image/png": "[encoded data removed]",
      "text/plain": [
       "<Figure size 720x432 with 1 Axes>"
      ]
     },
     "metadata": {},
     "output_type": "display_data"
    }
   ],
   "source": [
    "in_out_degree_sort = sorted(in_out_degree)\n",
    "plt.figure(figsize=(10,6))\n",
    "plt.plot(in_out_degree_sort[0:1500000])\n",
    "plt.xlabel('Index No')\n",
    "plt.ylabel('No Of people each person is following + followers')\n",
    "plt.show()"
   ]
  },
  {
   "cell_type": "code",
   "execution_count": 25,
   "metadata": {
    "colab": {
     "base_uri": "https://localhost:8080/"
    },
    "executionInfo": {
     "elapsed": 5950,
     "status": "ok",
     "timestamp": 1635052401365,
     "user": {
      "displayName": "piyush dutt acharya",
      "photoUrl": "https://lh3.googleusercontent.com/a/default-user=s64",
      "userId": "01238491643435937668"
     },
     "user_tz": -330
    },
    "id": "_3a6KAv6RUVU",
    "outputId": "796a5af6-57a4-4185-8f2a-dfa68994bfac"
   },
   "outputs": [
    {
     "name": "stdout",
     "output_type": "stream",
     "text": [
      "90 percentile value is 24.0\n",
      "91 percentile value is 26.0\n",
      "92 percentile value is 28.0\n",
      "93 percentile value is 31.0\n",
      "94 percentile value is 33.0\n",
      "95 percentile value is 37.0\n",
      "96 percentile value is 41.0\n",
      "97 percentile value is 48.0\n",
      "98 percentile value is 58.0\n",
      "99 percentile value is 79.0\n",
      "100 percentile value is 1579.0\n"
     ]
    }
   ],
   "source": [
    "### 90-100 percentile\n",
    "for i in range(0,11):\n",
    "    print(90+i,'percentile value is',np.percentile(in_out_degree_sort,90+i))"
   ]
  },
  {
   "cell_type": "code",
   "execution_count": 26,
   "metadata": {
    "colab": {
     "base_uri": "https://localhost:8080/"
    },
    "executionInfo": {
     "elapsed": 5493,
     "status": "ok",
     "timestamp": 1635052407268,
     "user": {
      "displayName": "piyush dutt acharya",
      "photoUrl": "https://lh3.googleusercontent.com/a/default-user=s64",
      "userId": "01238491643435937668"
     },
     "user_tz": -330
    },
    "id": "npQeCHy_RUVU",
    "outputId": "8d94963a-87d6-4e03-de94-6683100835c0"
   },
   "outputs": [
    {
     "name": "stdout",
     "output_type": "stream",
     "text": [
      "99.1 percentile value is 83.0\n",
      "99.2 percentile value is 87.0\n",
      "99.3 percentile value is 93.0\n",
      "99.4 percentile value is 99.0\n",
      "99.5 percentile value is 108.0\n",
      "99.6 percentile value is 120.0\n",
      "99.7 percentile value is 138.0\n",
      "99.8 percentile value is 168.0\n",
      "99.9 percentile value is 221.0\n",
      "100.0 percentile value is 1579.0\n"
     ]
    }
   ],
   "source": [
    "### 99-100 percentile\n",
    "for i in range(10,110,10):\n",
    "    print(99+(i/100),'percentile value is',np.percentile(in_out_degree_sort,99+(i/100)))"
   ]
  },
  {
   "cell_type": "code",
   "execution_count": 27,
   "metadata": {
    "colab": {
     "base_uri": "https://localhost:8080/"
    },
    "executionInfo": {
     "elapsed": 34,
     "status": "ok",
     "timestamp": 1635052407269,
     "user": {
      "displayName": "piyush dutt acharya",
      "photoUrl": "https://lh3.googleusercontent.com/a/default-user=s64",
      "userId": "01238491643435937668"
     },
     "user_tz": -330
    },
    "id": "-8DTwbUHRUVe",
    "outputId": "9885dbfd-e8f1-44e9-b789-f3d8b66aa355"
   },
   "outputs": [
    {
     "name": "stdout",
     "output_type": "stream",
     "text": [
      "Min of no of followers + following is 1\n",
      "334291  persons having minimum no of followers + following\n"
     ]
    }
   ],
   "source": [
    "print('Min of no of followers + following is',in_out_degree.min())\n",
    "print(np.sum(in_out_degree==in_out_degree.min()),' persons having minimum no of followers + following')"
   ]
  },
  {
   "cell_type": "code",
   "execution_count": 28,
   "metadata": {
    "colab": {
     "base_uri": "https://localhost:8080/"
    },
    "executionInfo": {
     "elapsed": 29,
     "status": "ok",
     "timestamp": 1635052407270,
     "user": {
      "displayName": "piyush dutt acharya",
      "photoUrl": "https://lh3.googleusercontent.com/a/default-user=s64",
      "userId": "01238491643435937668"
     },
     "user_tz": -330
    },
    "id": "Z5kdeMX0RUVf",
    "outputId": "d23d84e6-4700-4e27-ef72-689aabcad3d6"
   },
   "outputs": [
    {
     "name": "stdout",
     "output_type": "stream",
     "text": [
      "Max of no of followers + following is 1579\n",
      "1  persons having maximum no of followers + following\n"
     ]
    }
   ],
   "source": [
    "print('Max of no of followers + following is',in_out_degree.max())\n",
    "print(np.sum(in_out_degree==in_out_degree.max()),' persons having maximum no of followers + following')"
   ]
  },
  {
   "cell_type": "code",
   "execution_count": 29,
   "metadata": {
    "colab": {
     "base_uri": "https://localhost:8080/"
    },
    "executionInfo": {
     "elapsed": 26,
     "status": "ok",
     "timestamp": 1635052407271,
     "user": {
      "displayName": "piyush dutt acharya",
      "photoUrl": "https://lh3.googleusercontent.com/a/default-user=s64",
      "userId": "01238491643435937668"
     },
     "user_tz": -330
    },
    "id": "kzoZdzvRRUVh",
    "outputId": "3b565875-7769-44b9-8f75-c746723ffa0b"
   },
   "outputs": [
    {
     "name": "stdout",
     "output_type": "stream",
     "text": [
      "No of persons having followers + following less than 10 are 1320326\n"
     ]
    }
   ],
   "source": [
    "print('No of persons having followers + following less than 10 are',np.sum(in_out_degree<10))"
   ]
  },
  {
   "cell_type": "code",
   "execution_count": 30,
   "metadata": {
    "colab": {
     "base_uri": "https://localhost:8080/"
    },
    "executionInfo": {
     "elapsed": 51920,
     "status": "ok",
     "timestamp": 1635052459169,
     "user": {
      "displayName": "piyush dutt acharya",
      "photoUrl": "https://lh3.googleusercontent.com/a/default-user=s64",
      "userId": "01238491643435937668"
     },
     "user_tz": -330
    },
    "id": "T_VD3Ua3RUVh",
    "outputId": "ebbd0db7-7e0b-4650-833c-4b36e830a696"
   },
   "outputs": [
    {
     "name": "stdout",
     "output_type": "stream",
     "text": [
      "No of weakly connected components 45558\n",
      "weakly connected components wit 2 nodes 32195\n"
     ]
    }
   ],
   "source": [
    "print('No of weakly connected components',len(list(nx.weakly_connected_components(g))))\n",
    "count=0\n",
    "for i in list(nx.weakly_connected_components(g)):\n",
    "    if len(i)==2:\n",
    "        count+=1\n",
    "print('weakly connected components wit 2 nodes',count)"
   ]
  },
  {
   "cell_type": "markdown",
   "metadata": {
    "id": "oLmC5lXZRUVi"
   },
   "source": [
    "# 2. Posing a problem as classification problem "
   ]
  },
  {
   "cell_type": "markdown",
   "metadata": {
    "id": "EpRqo03-RUVi"
   },
   "source": [
    "## 2.1 Generating some edges which are not present in graph for supervised learning  \n",
    "Generated Bad links from graph which are not in graph and whose shortest path is greater than 2. "
   ]
  },
  {
   "cell_type": "code",
   "execution_count": 5,
   "metadata": {
    "colab": {
     "base_uri": "https://localhost:8080/"
    },
    "executionInfo": {
     "elapsed": 6798,
     "status": "ok",
     "timestamp": 1635074598199,
     "user": {
      "displayName": "piyush dutt acharya",
      "photoUrl": "https://lh3.googleusercontent.com/a/default-user=s64",
      "userId": "01238491643435937668"
     },
     "user_tz": -330
    },
    "id": "VIL8Fl1JRUVj",
    "outputId": "184afd3e-8223-41f9-db02-09c51b0923c0"
   },
   "outputs": [
    {
     "name": "stdout",
     "output_type": "stream",
     "text": [
      "CPU times: user 2.52 s, sys: 3.39 s, total: 5.91 s\n",
      "Wall time: 6.38 s\n"
     ]
    }
   ],
   "source": [
    "%%time\n",
    "###generating bad edges from given graph\n",
    "import random\n",
    "if not os.path.isfile('missing_edges_final.p'):\n",
    "    #getting all set of edges\n",
    "    r = csv.reader(open('train.csv','r'))\n",
    "    edges = dict()\n",
    "    for edge in r:\n",
    "        edges[(edge[0], edge[1])] = 1\n",
    "        \n",
    "        \n",
    "    missing_edges = set([])\n",
    "    while (len(missing_edges)<9437519):\n",
    "        a=random.randint(1, 1862220)\n",
    "        b=random.randint(1, 1862220)\n",
    "        tmp = edges.get((a,b),-1)\n",
    "        if tmp == -1 and a!=b:\n",
    "            try:\n",
    "                if nx.shortest_path_length(g,source=a,target=b) > 2: \n",
    "\n",
    "                    missing_edges.add((a,b))\n",
    "                else:\n",
    "                    continue  \n",
    "            except:  \n",
    "                    missing_edges.add((a,b))              \n",
    "        else:\n",
    "            continue\n",
    "    pickle.dump(missing_edges,open('missing_edges_final.p','wb'))\n",
    "else:\n",
    "    missing_edges = pickle.load(open('missing_edges_final.p','rb'))"
   ]
  },
  {
   "cell_type": "code",
   "execution_count": null,
   "metadata": {
    "id": "GMVU1P9IRUVj",
    "outputId": "5d256f93-2d0c-4604-b140-852cf0b24cfa"
   },
   "outputs": [
    {
     "data": {
      "text/plain": [
       "9437519"
      ]
     },
     "execution_count": 47,
     "metadata": {},
     "output_type": "execute_result"
    }
   ],
   "source": [
    "len(missing_edges)"
   ]
  },
  {
   "cell_type": "markdown",
   "metadata": {
    "id": "_6SmG-BmRUVk"
   },
   "source": [
    "## 2.2 Training and Test data split:  \n",
    "Removed edges from Graph and used as test data and after removing used that graph for creating features for Train and test data"
   ]
  },
  {
   "cell_type": "code",
   "execution_count": 7,
   "metadata": {
    "executionInfo": {
     "elapsed": 1138,
     "status": "ok",
     "timestamp": 1635074947173,
     "user": {
      "displayName": "piyush dutt acharya",
      "photoUrl": "https://lh3.googleusercontent.com/a/default-user=s64",
      "userId": "01238491643435937668"
     },
     "user_tz": -330
    },
    "id": "pkwkzwFrRUVk"
   },
   "outputs": [],
   "source": [
    "from sklearn.model_selection import train_test_split\n",
    "if (not os.path.isfile('train_pos_after_eda.csv')) and (not os.path.isfile('test_pos_after_eda.csv')):\n",
    "    #reading total data df\n",
    "    df_pos = pd.read_csv('train.csv')\n",
    "    df_neg = pd.DataFrame(list(missing_edges), columns=['source_node', 'destination_node'])\n",
    "    \n",
    "    print(\"Number of nodes in the graph with edges\", df_pos.shape[0])\n",
    "    print(\"Number of nodes in the graph without edges\", df_neg.shape[0])\n",
    "    \n",
    "    #Trian test split \n",
    "    #Spiltted data into 80-20 \n",
    "    #positive links and negative links seperatly because we need positive training data only for creating graph \n",
    "    #and for feature generation\n",
    "    X_train_pos, X_test_pos, y_train_pos, y_test_pos  = train_test_split(df_pos,np.ones(len(df_pos)),test_size=0.2, random_state=9)\n",
    "    X_train_neg, X_test_neg, y_train_neg, y_test_neg  = train_test_split(df_neg,np.zeros(len(df_neg)),test_size=0.2, random_state=9)\n",
    "    \n",
    "    print('='*60)\n",
    "    print(\"Number of nodes in the train data graph with edges\", X_train_pos.shape[0],\"=\",y_train_pos.shape[0])\n",
    "    print(\"Number of nodes in the train data graph without edges\", X_train_neg.shape[0],\"=\", y_train_neg.shape[0])\n",
    "    print('='*60)\n",
    "    print(\"Number of nodes in the test data graph with edges\", X_test_pos.shape[0],\"=\",y_test_pos.shape[0])\n",
    "    print(\"Number of nodes in the test data graph without edges\", X_test_neg.shape[0],\"=\",y_test_neg.shape[0])\n",
    "\n",
    "    #removing header and saving\n",
    "    X_train_pos.to_csv('train_pos_after_eda.csv',header=False, index=False)\n",
    "    X_test_pos.to_csv('test_pos_after_eda.csv',header=False, index=False)\n",
    "    X_train_neg.to_csv('train_neg_after_eda.csv',header=False, index=False)\n",
    "    X_test_neg.to_csv('test_neg_after_eda.csv',header=False, index=False)\n",
    "    np.save('y_train_pos',y_train_pos)\n",
    "    np.save('y_train_neg',y_train_neg)\n",
    "    np.save('y_test_pos',y_test_pos)\n",
    "    np.save('y_test_neg',y_test_neg)\n",
    "else:\n",
    "    #Graph from Traing data only \n",
    "    del missing_edges"
   ]
  },
  {
   "cell_type": "code",
   "execution_count": 8,
   "metadata": {
    "colab": {
     "base_uri": "https://localhost:8080/"
    },
    "executionInfo": {
     "elapsed": 158799,
     "status": "ok",
     "timestamp": 1635075114203,
     "user": {
      "displayName": "piyush dutt acharya",
      "photoUrl": "https://lh3.googleusercontent.com/a/default-user=s64",
      "userId": "01238491643435937668"
     },
     "user_tz": -330
    },
    "id": "hvlo9jOFRUVl",
    "outputId": "34186daf-c892-43fa-bc42-08f00b9de1c0"
   },
   "outputs": [
    {
     "name": "stdout",
     "output_type": "stream",
     "text": [
      "DiGraph with 1780924 nodes and 7550014 edges\n",
      "DiGraph with 1143613 nodes and 1887504 edges\n",
      "no of people common in train and test --  1062317\n",
      "no of people present in train but not present in test --  718607\n",
      "no of people present in test but not present in train --  81296\n",
      " % of people not there in Train but exist in Test in total Test data are 7.1086984845397865 %\n"
     ]
    }
   ],
   "source": [
    "if (os.path.isfile('train_pos_after_eda.csv')) and \\\n",
    "(os.path.isfile('test_pos_after_eda.csv')):        \n",
    "    train_graph=nx.read_edgelist('train_pos_after_eda.csv',delimiter=',',create_using=nx.DiGraph(),nodetype=int)\n",
    "    test_graph=nx.read_edgelist('test_pos_after_eda.csv',delimiter=',',create_using=nx.DiGraph(),nodetype=int)\n",
    "    print(nx.info(train_graph))\n",
    "    print(nx.info(test_graph))\n",
    "\n",
    "    # finding the unique nodes in the both train and test graphs\n",
    "    train_nodes_pos = set(train_graph.nodes())\n",
    "    test_nodes_pos = set(test_graph.nodes())\n",
    "\n",
    "    trY_teY = len(train_nodes_pos.intersection(test_nodes_pos))\n",
    "    trY_teN = len(train_nodes_pos - test_nodes_pos)\n",
    "    teY_trN = len(test_nodes_pos - train_nodes_pos)\n",
    "\n",
    "    print('no of people common in train and test -- ',trY_teY)\n",
    "    print('no of people present in train but not present in test -- ',trY_teN)\n",
    "\n",
    "    print('no of people present in test but not present in train -- ',teY_trN)\n",
    "    print(' % of people not there in Train but exist in Test in total Test data are {} %'.format(teY_trN/len(test_nodes_pos)*100))"
   ]
  },
  {
   "cell_type": "markdown",
   "metadata": {
    "id": "lqp0lIYBRUVm"
   },
   "source": [
    "> we have a cold start problem here"
   ]
  },
  {
   "cell_type": "code",
   "execution_count": 9,
   "metadata": {
    "colab": {
     "base_uri": "https://localhost:8080/"
    },
    "executionInfo": {
     "elapsed": 67746,
     "status": "ok",
     "timestamp": 1635075282934,
     "user": {
      "displayName": "piyush dutt acharya",
      "photoUrl": "https://lh3.googleusercontent.com/a/default-user=s64",
      "userId": "01238491643435937668"
     },
     "user_tz": -330
    },
    "id": "oJv7bmAmRUVn",
    "outputId": "39506764-e890-47d4-bf9d-1d5686a7daf3"
   },
   "outputs": [
    {
     "name": "stdout",
     "output_type": "stream",
     "text": [
      "============================================================\n",
      "Number of nodes in the train data graph with edges 7550014\n",
      "Number of nodes in the train data graph without edges 7550015\n",
      "============================================================\n",
      "Number of nodes in the test data graph with edges 1887504\n",
      "Number of nodes in the test data graph without edges 1887504\n"
     ]
    }
   ],
   "source": [
    "#final train and test data sets\n",
    "if (not os.path.isfile('train_after_eda.csv')) and \\\n",
    "(not os.path.isfile('test_after_eda.csv')) and \\\n",
    "(not os.path.isfile('train_y.csv')) and \\\n",
    "(not os.path.isfile('test_y.csv')) and \\\n",
    "(os.path.isfile('train_pos_after_eda.csv')) and \\\n",
    "(os.path.isfile('test_pos_after_eda.csv')) and \\\n",
    "(os.path.isfile('train_neg_after_eda.csv')) and \\\n",
    "(os.path.isfile('test_neg_after_eda.csv')):\n",
    "    \n",
    "    X_train_pos = pd.read_csv('train_pos_after_eda.csv', names=['source_node', 'destination_node'])\n",
    "    X_test_pos = pd.read_csv('test_pos_after_eda.csv', names=['source_node', 'destination_node'])\n",
    "    X_train_neg = pd.read_csv('train_neg_after_eda.csv', names=['source_node', 'destination_node'])\n",
    "    X_test_neg = pd.read_csv('test_neg_after_eda.csv', names=['source_node', 'destination_node'])\n",
    "\n",
    "    print('='*60)\n",
    "    print(\"Number of nodes in the train data graph with edges\", X_train_pos.shape[0])\n",
    "    print(\"Number of nodes in the train data graph without edges\", X_train_neg.shape[0])\n",
    "    print('='*60)\n",
    "    print(\"Number of nodes in the test data graph with edges\", X_test_pos.shape[0])\n",
    "    print(\"Number of nodes in the test data graph without edges\", X_test_neg.shape[0])\n",
    "\n",
    "    X_train = X_train_pos.append(X_train_neg,ignore_index=True)\n",
    "    y_train = np.concatenate((y_train_pos,y_train_neg))\n",
    "    X_test = X_test_pos.append(X_test_neg,ignore_index=True)\n",
    "    y_test = np.concatenate((y_test_pos,y_test_neg)) \n",
    "    \n",
    "    X_train.to_csv('train_after_eda.csv',header=False,index=False)\n",
    "    X_test.to_csv('test_after_eda.csv',header=False,index=False)\n",
    "    pd.DataFrame(y_train.astype(int)).to_csv('train_y.csv',header=False,index=False)\n",
    "    pd.DataFrame(y_test.astype(int)).to_csv('test_y.csv',header=False,index=False)"
   ]
  },
  {
   "cell_type": "code",
   "execution_count": 10,
   "metadata": {
    "colab": {
     "base_uri": "https://localhost:8080/"
    },
    "executionInfo": {
     "elapsed": 404,
     "status": "ok",
     "timestamp": 1635075289320,
     "user": {
      "displayName": "piyush dutt acharya",
      "photoUrl": "https://lh3.googleusercontent.com/a/default-user=s64",
      "userId": "01238491643435937668"
     },
     "user_tz": -330
    },
    "id": "heOBAI4vRUVo",
    "outputId": "d309c346-d253-4c22-cbd1-f9b6ce2e2f87"
   },
   "outputs": [
    {
     "name": "stdout",
     "output_type": "stream",
     "text": [
      "Data points in train data (15100029, 2)\n",
      "Data points in test data (3775008, 2)\n",
      "Shape of traget variable in train (15100029,)\n",
      "Shape of traget variable in test (3775008,)\n"
     ]
    }
   ],
   "source": [
    "print(\"Data points in train data\",X_train.shape)\n",
    "print(\"Data points in test data\",X_test.shape)\n",
    "print(\"Shape of traget variable in train\",y_train.shape)\n",
    "print(\"Shape of traget variable in test\", y_test.shape)"
   ]
  },
  {
   "cell_type": "code",
   "execution_count": null,
   "metadata": {
    "id": "ofnzhaHbRUVp"
   },
   "outputs": [],
   "source": [
    "# computed and store the data for featurization\n",
    "# please check out FB_featurization.ipynb"
   ]
  }
 ],
 "metadata": {
  "colab": {
   "collapsed_sections": [],
   "name": "FB_EDA.ipynb",
   "provenance": []
  },
  "kernelspec": {
   "display_name": "Python 3 (ipykernel)",
   "language": "python",
   "name": "python3"
  },
  "language_info": {
   "codemirror_mode": {
    "name": "ipython",
    "version": 3
   },
   "file_extension": ".py",
   "mimetype": "text/x-python",
   "name": "python",
   "nbconvert_exporter": "python",
   "pygments_lexer": "ipython3",
   "version": "3.8.11"
  }
 },
 "nbformat": 4,
 "nbformat_minor": 1
}
